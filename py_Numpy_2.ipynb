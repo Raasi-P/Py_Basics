{
  "nbformat": 4,
  "nbformat_minor": 0,
  "metadata": {
    "colab": {
      "provenance": []
    },
    "kernelspec": {
      "name": "python3",
      "display_name": "Python 3"
    }
  },
  "cells": [
    {
      "cell_type": "code",
      "metadata": {
        "id": "_9O0N6jiEjOb",
        "colab": {
          "base_uri": "https://localhost:8080/",
          "height": 102
        },
        "outputId": "d37fc7b0-d8a2-476b-9824-4baddcf288c3"
      },
      "source": [
        "import numpy as np\n",
        "nums1 = np.array([30,39,81,145,167])\n",
        "nums2 = np.array([3,6,9,12,15])\n",
        "print(np.add(nums1,nums2))\n",
        "print(np.subtract(nums1,nums2))\n",
        "print(np.multiply(nums1,nums2))\n",
        "print(np.divide(nums1,nums2))\n",
        "print(np.floor_divide(nums1,nums2))"
      ],
      "execution_count": null,
      "outputs": [
        {
          "output_type": "stream",
          "text": [
            "[ 33  45  90 157 182]\n",
            "[ 27  33  72 133 152]\n",
            "[  90  234  729 1740 2505]\n",
            "[10.          6.5         9.         12.08333333 11.13333333]\n",
            "[10  6  9 12 11]\n"
          ],
          "name": "stdout"
        }
      ]
    },
    {
      "cell_type": "code",
      "metadata": {
        "id": "5UxxV3cqEnRF",
        "colab": {
          "base_uri": "https://localhost:8080/",
          "height": 170
        },
        "outputId": "83dbaa12-b0d0-4579-e4de-46f3bc883a67"
      },
      "source": [
        "import numpy as np\n",
        "nums = np.array([[30,39,81,145,167], [3,6,9,12,15]])\n",
        "print(\"Min: \", np.min(nums))\n",
        "print(\"Max: \", np.max(nums))\n",
        "print(\"Mean: \", np.mean(nums))\n",
        "print(\"Median: \", np.median(nums))\n",
        "print(\"Std: \", np.std(nums))\n",
        "print(\"Var: \", np.var(nums))\n",
        "print(\"4th Percentile: \", np.percentile(nums, 4))\n",
        "print(\"any: \", np.any(nums))\n",
        "print(\"all: \", np.all(nums))"
      ],
      "execution_count": null,
      "outputs": [
        {
          "output_type": "stream",
          "text": [
            "Min:  3\n",
            "Max:  167\n",
            "Mean:  50.7\n",
            "Median:  22.5\n",
            "Std:  57.1717587625219\n",
            "Var:  3268.6099999999997\n",
            "4th Percentile:  4.08\n",
            "any:  True\n",
            "all:  True\n"
          ],
          "name": "stdout"
        }
      ]
    },
    {
      "cell_type": "code",
      "metadata": {
        "id": "4057QXaUi3rd",
        "colab": {
          "base_uri": "https://localhost:8080/",
          "height": 34
        },
        "outputId": "99c483fb-b2ab-4202-d232-8f69c7a51554"
      },
      "source": [
        "import numpy as np\n",
        "nums1 = np.array([30,39,81,145,167])\n",
        "nums2 = np.array([3,6,9,12,15])\n",
        "print(np.add(nums1,nums2))\n"
      ],
      "execution_count": null,
      "outputs": [
        {
          "output_type": "stream",
          "text": [
            "[ 33  45  90 157 182]\n"
          ],
          "name": "stdout"
        }
      ]
    },
    {
      "cell_type": "code",
      "metadata": {
        "id": "GsbOKU7clyvB",
        "colab": {
          "base_uri": "https://localhost:8080/",
          "height": 136
        },
        "outputId": "e827a5ad-9145-4fa3-a7c0-5eb5803cfd15"
      },
      "source": [
        "import numpy as np\n",
        "nums1 = np.array([[5,10,15,20,25],[30,35,40,45,50],[55,60,65,70,75]])\n",
        "nums2 = np.array([3,6,9,12,15])\n",
        "print(nums1)\n",
        "print(nums2)\n",
        "print(nums1+nums2)"
      ],
      "execution_count": null,
      "outputs": [
        {
          "output_type": "stream",
          "text": [
            "[[ 5 10 15 20 25]\n",
            " [30 35 40 45 50]\n",
            " [55 60 65 70 75]]\n",
            "[ 3  6  9 12 15]\n",
            "[[ 8 16 24 32 40]\n",
            " [33 41 49 57 65]\n",
            " [58 66 74 82 90]]\n"
          ],
          "name": "stdout"
        }
      ]
    }
  ]
}