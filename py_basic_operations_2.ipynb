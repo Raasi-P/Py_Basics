{
  "nbformat": 4,
  "nbformat_minor": 0,
  "metadata": {
    "colab": {
      "provenance": []
    },
    "kernelspec": {
      "name": "python3",
      "display_name": "Python 3"
    }
  },
  "cells": [
    {
      "cell_type": "code",
      "metadata": {
        "id": "yr1udw380utO",
        "colab": {
          "base_uri": "https://localhost:8080/",
          "height": 119
        },
        "outputId": "aeb3d346-24b5-43b2-e945-d52b8b065cfe"
      },
      "source": [
        "class Person:\n",
        "    name = \"\"\n",
        "    age = 0\n",
        "    gender = ''\n",
        "\n",
        "    def __init__(self, personName, personAge, personGender):\n",
        "        self.name = personName\n",
        "        self.age = personAge\n",
        "        self.gender = personGender\n",
        "\n",
        "    def showName(self):\n",
        "        print(self.name)\n",
        "\n",
        "    def showAge(self):\n",
        "        print(self.age)\n",
        "\n",
        "    def showGender(self):\n",
        "        print(self.gender)\n",
        "\n",
        "person1 = Person(\"Akhil\", 25, 'Male')\n",
        "person2 = Person(\"Rashi\", 22, 'Female')\n",
        "person1.showName()\n",
        "person1.showAge()\n",
        "person1.showGender()\n",
        "person2.showName()\n",
        "person2.showAge()\n",
        "person2.showGender()"
      ],
      "execution_count": null,
      "outputs": [
        {
          "output_type": "stream",
          "text": [
            "Akhil\n",
            "25\n",
            "Male\n",
            "Rashi\n",
            "22\n",
            "Female\n"
          ],
          "name": "stdout"
        }
      ]
    },
    {
      "cell_type": "code",
      "metadata": {
        "id": "W9Lo60cHDVHZ",
        "colab": {
          "base_uri": "https://localhost:8080/",
          "height": 221
        },
        "outputId": "3b8de1c4-5195-44ff-dcd6-d946f8fce779"
      },
      "source": [
        "import re\n",
        "s =\"asd4assd5and6aksd\"\n",
        "b = re.findall('a.d',s)\n",
        "c = re.findall('a..d',s)\n",
        "print(b)\n",
        "print(c)\n",
        "\n",
        "s =\"asd4assd5and6aksd\"\n",
        "b = re.findall('^a.d',s)\n",
        "print(b)\n",
        "\n",
        "s =\"asd4assd5and6aksd\"\n",
        "b = re.findall('a..d$',s)\n",
        "print(b)\n",
        "\n",
        "s =\"asd4assd5and6aksd\"\n",
        "b = re.findall('a..d*',s)\n",
        "print(b)\n",
        "\n",
        "s =\"asd4assd5and6aksd\"\n",
        "b = re.findall('a..d+',s)\n",
        "print(b)\n",
        "\n",
        "s =\"asd4assd5and6aksd\"\n",
        "b = re.findall('a..d?',s)\n",
        "print(b)\n",
        "\n",
        "s =\"asd4assd5and6aksd\"\n",
        "b = re.findall('alex{0,1}','asdhfalexx')\n",
        "print(b)\n",
        "\n",
        "s =\"asd4assd5and6aksd\"\n",
        "b = re.findall('alex[ax]','asdhfalexx')\n",
        "print(b)\n",
        "\n",
        "s =\"asd4assd5and6aksd\"\n",
        "b = re.findall('\\+\\?\\*','asdhfalexx')\n",
        "print(b)\n",
        "\n",
        "s =\"asd4assd5and6aksd\"\n",
        "b = re.findall('[a-z]+|[2-9]+','abcdefga')\n",
        "print(b)\n",
        "\n",
        "s =\"asd4assd5and6aksd\"\n",
        "b = re.findall('ab*','abbb')\n",
        "print(b)\n"
      ],
      "execution_count": null,
      "outputs": [
        {
          "output_type": "stream",
          "text": [
            "['asd', 'and']\n",
            "['assd', 'aksd']\n",
            "['asd']\n",
            "['aksd']\n",
            "['asd', 'assd', 'and', 'aksd']\n",
            "['assd', 'aksd']\n",
            "['asd', 'assd', 'and', 'aksd']\n",
            "['alex']\n",
            "['alexx']\n",
            "[]\n",
            "['abcdefga']\n",
            "['abbb']\n"
          ],
          "name": "stdout"
        }
      ]
    },
    {
      "cell_type": "code",
      "metadata": {
        "id": "310Fy4e9Rem7",
        "colab": {
          "base_uri": "https://localhost:8080/",
          "height": 51
        },
        "outputId": "1617cae5-e055-474c-879a-e825f0a86c05"
      },
      "source": [
        "import re\n",
        "txt = \"Ria is 9 years old\"\n",
        "x = re.findall(\"\\d\", txt)\n",
        "print(x)\n",
        "if x:\n",
        "  print(\"Yes, there is at least one match!\")\n",
        "else:\n",
        "  print(\"No match\")"
      ],
      "execution_count": null,
      "outputs": [
        {
          "output_type": "stream",
          "text": [
            "['9']\n",
            "Yes, there is at least one match!\n"
          ],
          "name": "stdout"
        }
      ]
    },
    {
      "cell_type": "code",
      "metadata": {
        "id": "iLgavL31R6_p",
        "colab": {
          "base_uri": "https://localhost:8080/",
          "height": 51
        },
        "outputId": "48d5a723-31b4-4885-d7d4-3fc8eab230c6"
      },
      "source": [
        "import re\n",
        "txt = \"The rain in Spain\"\n",
        "x = re.findall(r\"ain\\b\", txt)\n",
        "print(x)\n",
        "if x:\n",
        "  print(\"Yes, there is at least one match!\")\n",
        "else:\n",
        "  print(\"No match\")"
      ],
      "execution_count": null,
      "outputs": [
        {
          "output_type": "stream",
          "text": [
            "['ain', 'ain']\n",
            "Yes, there is at least one match!\n"
          ],
          "name": "stdout"
        }
      ]
    },
    {
      "cell_type": "code",
      "metadata": {
        "id": "qpema7qMSaA9",
        "colab": {
          "base_uri": "https://localhost:8080/",
          "height": 51
        },
        "outputId": "65fcb6ae-9e23-40b7-d267-b30504c27666"
      },
      "source": [
        "import re\n",
        "txt = \"Baba baba black sheep\"\n",
        "x = re.findall(\"\\D\", txt)\n",
        "print(x)\n",
        "if x:\n",
        "  print(\"Yes, there is at least one match!\")\n",
        "else:\n",
        "  print(\"No match\")"
      ],
      "execution_count": null,
      "outputs": [
        {
          "output_type": "stream",
          "text": [
            "['B', 'a', 'b', 'a', ' ', 'b', 'a', 'b', 'a', ' ', 'b', 'l', 'a', 'c', 'k', ' ', 's', 'h', 'e', 'e', 'p']\n",
            "Yes, there is at least one match!\n"
          ],
          "name": "stdout"
        }
      ]
    },
    {
      "cell_type": "code",
      "metadata": {
        "id": "GvbGfKj2T27b",
        "colab": {
          "base_uri": "https://localhost:8080/",
          "height": 51
        },
        "outputId": "1e1143ed-7116-47e8-9014-a10b2b0578f1"
      },
      "source": [
        "import re\n",
        "txt = \"Baba baba black sheep\"\n",
        "x = re.findall(\"\\s\", txt)\n",
        "print(x)\n",
        "if x:\n",
        "  print(\"Yes, there is at least one match!\")\n",
        "else:\n",
        "  print(\"No match\")"
      ],
      "execution_count": null,
      "outputs": [
        {
          "output_type": "stream",
          "text": [
            "[' ', ' ', ' ']\n",
            "Yes, there is at least one match!\n"
          ],
          "name": "stdout"
        }
      ]
    },
    {
      "cell_type": "code",
      "metadata": {
        "id": "JSNPWv3DUoCY",
        "colab": {
          "base_uri": "https://localhost:8080/",
          "height": 51
        },
        "outputId": "cbfaf46d-214b-4424-f1e4-ae8e4f233252"
      },
      "source": [
        "import re\n",
        "txt = \"Baba baba black sheep\"\n",
        "x = re.findall(\"\\S\", txt)\n",
        "print(x)\n",
        "if x:\n",
        "  print(\"Yes, there is at least one match!\")\n",
        "else:\n",
        "  print(\"No match\")"
      ],
      "execution_count": null,
      "outputs": [
        {
          "output_type": "stream",
          "text": [
            "['B', 'a', 'b', 'a', 'b', 'a', 'b', 'a', 'b', 'l', 'a', 'c', 'k', 's', 'h', 'e', 'e', 'p']\n",
            "Yes, there is at least one match!\n"
          ],
          "name": "stdout"
        }
      ]
    },
    {
      "cell_type": "code",
      "metadata": {
        "id": "AqXfFOk_VJOb",
        "colab": {
          "base_uri": "https://localhost:8080/",
          "height": 51
        },
        "outputId": "279a557a-f072-4ee5-b2f4-f0d1aac26419"
      },
      "source": [
        "import re\n",
        "txt = \"Baba baba black sheep\"\n",
        "x = re.findall(\"\\w\", txt)\n",
        "print(x)\n",
        "if x:\n",
        "  print(\"Yes, there is at least one match!\")\n",
        "else:\n",
        "  print(\"No match\")"
      ],
      "execution_count": null,
      "outputs": [
        {
          "output_type": "stream",
          "text": [
            "['B', 'a', 'b', 'a', 'b', 'a', 'b', 'a', 'b', 'l', 'a', 'c', 'k', 's', 'h', 'e', 'e', 'p']\n",
            "Yes, there is at least one match!\n"
          ],
          "name": "stdout"
        }
      ]
    },
    {
      "cell_type": "code",
      "metadata": {
        "id": "9Kx24Q6gVuAk",
        "colab": {
          "base_uri": "https://localhost:8080/",
          "height": 51
        },
        "outputId": "585a668e-2b2f-4552-c06c-9e32bc150a6c"
      },
      "source": [
        "import re\n",
        "txt = \"Baba baba black sheep\"\n",
        "x = re.findall(\"\\W\", txt)\n",
        "print(x)\n",
        "if x:\n",
        "  print(\"Yes, there is at least one match!\")\n",
        "else:\n",
        "  print(\"No match\")"
      ],
      "execution_count": null,
      "outputs": [
        {
          "output_type": "stream",
          "text": [
            "[' ', ' ', ' ']\n",
            "Yes, there is at least one match!\n"
          ],
          "name": "stdout"
        }
      ]
    },
    {
      "cell_type": "code",
      "metadata": {
        "id": "V-GqvpfmYTer",
        "colab": {
          "base_uri": "https://localhost:8080/",
          "height": 34
        },
        "outputId": "eba68def-905f-425f-c5c1-c55500032beb"
      },
      "source": [
        "import re\n",
        "txt = \"The rain in Spain\"\n",
        "x = re.findall(\"[a-m]\", txt)\n",
        "print(x)\n"
      ],
      "execution_count": null,
      "outputs": [
        {
          "output_type": "stream",
          "text": [
            "['h', 'e', 'a', 'i', 'i', 'a', 'i']\n"
          ],
          "name": "stdout"
        }
      ]
    },
    {
      "cell_type": "code",
      "metadata": {
        "id": "ZjWPI6_zYpmy",
        "colab": {
          "base_uri": "https://localhost:8080/",
          "height": 34
        },
        "outputId": "fa6a2f2e-e8cd-4fdb-98bd-c5fbe01561b1"
      },
      "source": [
        "import re\n",
        "txt = \"That will be 59 dollars\"\n",
        "x = re.findall(\"\\d\", txt)\n",
        "print(x)\n"
      ],
      "execution_count": null,
      "outputs": [
        {
          "output_type": "stream",
          "text": [
            "['5', '9']\n"
          ],
          "name": "stdout"
        }
      ]
    },
    {
      "cell_type": "code",
      "metadata": {
        "id": "JnZCG57KY5yD",
        "colab": {
          "base_uri": "https://localhost:8080/",
          "height": 34
        },
        "outputId": "909af355-e608-4cd7-f595-fc137c12ce3c"
      },
      "source": [
        "import re\n",
        "txt = \"hello world\"\n",
        "x = re.findall(\"he..o\", txt)\n",
        "print(x)\n"
      ],
      "execution_count": null,
      "outputs": [
        {
          "output_type": "stream",
          "text": [
            "['hello']\n"
          ],
          "name": "stdout"
        }
      ]
    },
    {
      "cell_type": "code",
      "metadata": {
        "id": "HL3f7vbvZueE",
        "colab": {
          "base_uri": "https://localhost:8080/",
          "height": 34
        },
        "outputId": "e33fb80b-b31c-4f82-8167-d63768de1f0c"
      },
      "source": [
        "import re\n",
        "txt = \"hello world\"\n",
        "x = re.findall(\"^hello\", txt)\n",
        "if x:\n",
        "  print(\"Yes, the string starts with 'hello'\")\n",
        "else:\n",
        "  print(\"No match\")"
      ],
      "execution_count": null,
      "outputs": [
        {
          "output_type": "stream",
          "text": [
            "Yes, the string starts with 'hello'\n"
          ],
          "name": "stdout"
        }
      ]
    },
    {
      "cell_type": "code",
      "metadata": {
        "id": "6YaTl2ecaJjH",
        "colab": {
          "base_uri": "https://localhost:8080/",
          "height": 34
        },
        "outputId": "e477f29d-c766-42ff-e846-a3a749eb63c9"
      },
      "source": [
        "import re\n",
        "txt = \"hello world\"\n",
        "x = re.findall(\"world$\", txt)\n",
        "if x:\n",
        "  print(\"Yes, the string ends with 'world'\")\n",
        "else:\n",
        "  print(\"No match\")"
      ],
      "execution_count": null,
      "outputs": [
        {
          "output_type": "stream",
          "text": [
            "Yes, the string ends with 'world'\n"
          ],
          "name": "stdout"
        }
      ]
    },
    {
      "cell_type": "code",
      "metadata": {
        "id": "zBhmJFeYarF5",
        "colab": {
          "base_uri": "https://localhost:8080/",
          "height": 51
        },
        "outputId": "8a782bd1-4e83-44a5-d729-215f4089f3ca"
      },
      "source": [
        "import re\n",
        "txt = \"The rain in Spain falls mainly in the plain!\"\n",
        "x = re.findall(\"aix*\", txt)\n",
        "print(x)\n",
        "if x:\n",
        "  print(\"Yes, there is at least one match!\")\n",
        "else:\n",
        "  print(\"No match\")"
      ],
      "execution_count": null,
      "outputs": [
        {
          "output_type": "stream",
          "text": [
            "['ai', 'ai', 'ai', 'ai']\n",
            "Yes, there is at least one match!\n"
          ],
          "name": "stdout"
        }
      ]
    },
    {
      "cell_type": "code",
      "metadata": {
        "id": "WFQo79BobEPD",
        "colab": {
          "base_uri": "https://localhost:8080/",
          "height": 51
        },
        "outputId": "32943bcb-c787-4475-c587-1c5838a4a67b"
      },
      "source": [
        "import re\n",
        "txt = \"The rain in Spain falls mainly in the plain!\"\n",
        "x = re.findall(\"ai+\", txt)\n",
        "print(x)\n",
        "if x:\n",
        "  print(\"Yes, there is at least one match!\")\n",
        "else:\n",
        "  print(\"No match\")"
      ],
      "execution_count": null,
      "outputs": [
        {
          "output_type": "stream",
          "text": [
            "['ai', 'ai', 'ai', 'ai']\n",
            "Yes, there is at least one match!\n"
          ],
          "name": "stdout"
        }
      ]
    },
    {
      "cell_type": "code",
      "metadata": {
        "id": "PyAq_ebZb8QI",
        "colab": {
          "base_uri": "https://localhost:8080/",
          "height": 34
        },
        "outputId": "1abe2624-c436-4ed2-f3ce-019f1900ce4f"
      },
      "source": [
        "import re\n",
        "txt = \"hello world\"\n",
        "x = re.findall(\"hello?\", txt)\n",
        "if x:\n",
        "  print(\"Yes, there is at least one match!\")\n",
        "else:\n",
        "  print(\"No match\")"
      ],
      "execution_count": null,
      "outputs": [
        {
          "output_type": "stream",
          "text": [
            "Yes, there is at least one match!\n"
          ],
          "name": "stdout"
        }
      ]
    },
    {
      "cell_type": "code",
      "metadata": {
        "id": "7dBbtTggdOvm",
        "colab": {
          "base_uri": "https://localhost:8080/",
          "height": 51
        },
        "outputId": "74a65d64-d097-4c5d-951c-01cd3f885382"
      },
      "source": [
        "import re\n",
        "txt = \"The rain in Spain falls mainly in the plain!\"\n",
        "x = re.findall(\"al{2}\", txt)\n",
        "print(x)\n",
        "if x:\n",
        "  print(\"Yes, there is at least one match!\")\n",
        "else:\n",
        "  print(\"No match\")"
      ],
      "execution_count": null,
      "outputs": [
        {
          "output_type": "stream",
          "text": [
            "['all']\n",
            "Yes, there is at least one match!\n"
          ],
          "name": "stdout"
        }
      ]
    },
    {
      "cell_type": "code",
      "metadata": {
        "id": "lU82wP8teFKl",
        "colab": {
          "base_uri": "https://localhost:8080/",
          "height": 51
        },
        "outputId": "766d182a-adee-4ee2-aa7a-6f2ca7711322"
      },
      "source": [
        "import re\n",
        "txt = \"The rain in Spain falls mainly in the plain!\"\n",
        "x = re.findall(\"falls|stays\", txt)\n",
        "print(x)\n",
        "if x:\n",
        "  print(\"Yes, there is at least one match!\")\n",
        "else:\n",
        "  print(\"No match\")"
      ],
      "execution_count": null,
      "outputs": [
        {
          "output_type": "stream",
          "text": [
            "['falls']\n",
            "Yes, there is at least one match!\n"
          ],
          "name": "stdout"
        }
      ]
    },
    {
      "cell_type": "code",
      "metadata": {
        "id": "ShNkaRLPe8lO",
        "colab": {
          "base_uri": "https://localhost:8080/",
          "height": 51
        },
        "outputId": "39995b34-07e4-4209-e469-951dccc52256"
      },
      "source": [
        "import re\n",
        "txt = \"Every moment is a fresh beginning\"\n",
        "x = re.findall(\"in\", txt)\n",
        "print(x)\n",
        "y = re.findall(\"Portugal\", txt)\n",
        "print(y)\n"
      ],
      "execution_count": null,
      "outputs": [
        {
          "output_type": "stream",
          "text": [
            "['in', 'in']\n",
            "[]\n"
          ],
          "name": "stdout"
        }
      ]
    },
    {
      "cell_type": "code",
      "metadata": {
        "id": "So4RZl5lg4j-",
        "colab": {
          "base_uri": "https://localhost:8080/",
          "height": 51
        },
        "outputId": "ceba8f3c-7205-4d40-e875-54c01b9df41d"
      },
      "source": [
        "import re\n",
        "txt = \"Every moment is a fresh beginning\"\n",
        "x = re.search(\"\\s\", txt)\n",
        "print(\"The first white-space character is located in position:\", x.start())\n",
        "y = re.search(\"Portugal\", txt)\n",
        "print(y)"
      ],
      "execution_count": null,
      "outputs": [
        {
          "output_type": "stream",
          "text": [
            "The first white-space character is located in position: 5\n",
            "None\n"
          ],
          "name": "stdout"
        }
      ]
    },
    {
      "cell_type": "code",
      "metadata": {
        "id": "E95iTLmPiNJE",
        "colab": {
          "base_uri": "https://localhost:8080/",
          "height": 51
        },
        "outputId": "cedc1984-547c-48a5-ca9f-d09b7a73f1ae"
      },
      "source": [
        "import re\n",
        "txt = \"Every moment is a fresh beginning\"\n",
        "x = re.split(\"\\s\", txt)\n",
        "print(x)\n",
        "y = re.split(\"\\s\", txt, 2)\n",
        "print(y)"
      ],
      "execution_count": null,
      "outputs": [
        {
          "output_type": "stream",
          "text": [
            "['Every', 'moment', 'is', 'a', 'fresh', 'beginning']\n",
            "['Every', 'moment', 'is a fresh beginning']\n"
          ],
          "name": "stdout"
        }
      ]
    },
    {
      "cell_type": "code",
      "metadata": {
        "id": "zXsh_pNMi_ee",
        "colab": {
          "base_uri": "https://localhost:8080/",
          "height": 51
        },
        "outputId": "2becfe9f-b8ee-407a-bcb5-bb680b19cad1"
      },
      "source": [
        "import re\n",
        "txt = \"Every moment is a fresh beginning\"\n",
        "x = re.sub(\"\\s\", \"lovely\", txt)\n",
        "print(x)\n",
        "y = re.sub(\"\\s\", \"beautiful\", txt, 1)\n",
        "print(y)"
      ],
      "execution_count": null,
      "outputs": [
        {
          "output_type": "stream",
          "text": [
            "Everylovelymomentlovelyislovelyalovelyfreshlovelybeginning\n",
            "Everybeautifulmoment is a fresh beginning\n"
          ],
          "name": "stdout"
        }
      ]
    },
    {
      "cell_type": "code",
      "metadata": {
        "id": "tPp_y19vkJR1",
        "colab": {
          "base_uri": "https://localhost:8080/",
          "height": 34
        },
        "outputId": "f193d00c-b746-4ee8-fc97-3d90dbecd702"
      },
      "source": [
        "import re\n",
        "txt = \"Every moment is a fresh beginning\"\n",
        "x = re.search(\"in\", txt)\n",
        "print(x)\n"
      ],
      "execution_count": null,
      "outputs": [
        {
          "output_type": "stream",
          "text": [
            "<_sre.SRE_Match object; span=(27, 29), match='in'>\n"
          ],
          "name": "stdout"
        }
      ]
    }
  ]
}