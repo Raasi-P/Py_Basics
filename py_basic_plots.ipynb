{
  "nbformat": 4,
  "nbformat_minor": 0,
  "metadata": {
    "colab": {
      "provenance": []
    },
    "kernelspec": {
      "name": "python3",
      "display_name": "Python 3"
    }
  },
  "cells": [
    {
      "cell_type": "code",
      "metadata": {
        "id": "pIbO6QY5DIxz",
        "colab": {
          "base_uri": "https://localhost:8080/",
          "height": 176
        },
        "outputId": "d18c7e02-d5ee-443d-cd6f-115e47dd381f"
      },
      "source": [
        "import pandas as pd\n",
        "import numpy as np\n",
        "data = pd.DataFrame(np.random.randn(5, 5), columns=['a', 'b', 'c', 'd', 'e'],index=[1, 2, 3, 5, 8])\n",
        "data = data.reindex([1, 2, 3, 4, 5, 6, 7, 8])\n",
        "print(data)"
      ],
      "execution_count": null,
      "outputs": [
        {
          "output_type": "stream",
          "text": [
            "          a         b         c         d         e\n",
            "1 -0.936760 -0.042036 -0.782327  1.719155 -2.277597\n",
            "2 -1.755069 -0.201262 -1.725246  0.486868 -0.956580\n",
            "3 -0.737199  0.999959 -0.466781  0.470684 -2.314600\n",
            "4       NaN       NaN       NaN       NaN       NaN\n",
            "5 -0.801626 -1.229392  0.928147 -1.678142 -1.584634\n",
            "6       NaN       NaN       NaN       NaN       NaN\n",
            "7       NaN       NaN       NaN       NaN       NaN\n",
            "8 -0.533762  0.565776 -0.042440  0.587722 -2.393987\n"
          ],
          "name": "stdout"
        }
      ]
    },
    {
      "cell_type": "code",
      "metadata": {
        "id": "nS2mEJNTIVh7",
        "colab": {
          "base_uri": "https://localhost:8080/",
          "height": 336
        },
        "outputId": "640830af-4347-4cae-f88b-f3264fd4bd56"
      },
      "source": [
        "import pandas as pd\n",
        "import numpy as np\n",
        "data = pd.DataFrame(np.random.randn(5, 5), columns=['a', 'b', 'c', 'd', 'e'],index=[1, 2, 3, 5, 8])\n",
        "data = data.reindex([1, 2, 3, 4, 5, 6, 7, 8])\n",
        "print(data.isnull())\n",
        "print(data.notnull())"
      ],
      "execution_count": null,
      "outputs": [
        {
          "output_type": "stream",
          "text": [
            "       a      b      c      d      e\n",
            "1  False  False  False  False  False\n",
            "2  False  False  False  False  False\n",
            "3  False  False  False  False  False\n",
            "4   True   True   True   True   True\n",
            "5  False  False  False  False  False\n",
            "6   True   True   True   True   True\n",
            "7   True   True   True   True   True\n",
            "8  False  False  False  False  False\n",
            "       a      b      c      d      e\n",
            "1   True   True   True   True   True\n",
            "2   True   True   True   True   True\n",
            "3   True   True   True   True   True\n",
            "4  False  False  False  False  False\n",
            "5   True   True   True   True   True\n",
            "6  False  False  False  False  False\n",
            "7  False  False  False  False  False\n",
            "8   True   True   True   True   True\n"
          ],
          "name": "stdout"
        }
      ]
    },
    {
      "cell_type": "code",
      "metadata": {
        "id": "GEaJu64lIWv2",
        "colab": {
          "base_uri": "https://localhost:8080/",
          "height": 176
        },
        "outputId": "7fb37a67-3ad3-429e-c33e-613d020a326a"
      },
      "source": [
        "import pandas as pd\n",
        "import numpy as np\n",
        "data = pd.DataFrame(np.random.randn(5, 5), columns=['a', 'b', 'c', 'd', 'e'],index=[1, 2, 3, 5, 8])\n",
        "data = data.reindex([1, 2, 3, 4, 5, 6, 7, 8])\n",
        "print(data.dropna(axis=1))\n",
        "print(data.dropna())"
      ],
      "execution_count": null,
      "outputs": [
        {
          "output_type": "stream",
          "text": [
            "Empty DataFrame\n",
            "Columns: []\n",
            "Index: [1, 2, 3, 4, 5, 6, 7, 8]\n",
            "          a         b         c         d         e\n",
            "1  0.721255 -0.466337  0.495899  0.201359  1.061268\n",
            "2  1.011891 -0.954240  0.631476  0.751803 -0.738624\n",
            "3 -0.521642  0.195183  1.311371 -0.416268 -0.617653\n",
            "5  0.283394  0.814500  0.692969  1.107045 -0.684064\n",
            "8 -1.457687 -0.336518 -1.700501  0.253520 -0.239297\n"
          ],
          "name": "stdout"
        }
      ]
    },
    {
      "cell_type": "code",
      "metadata": {
        "id": "N-Fgzik0IXq2",
        "colab": {
          "base_uri": "https://localhost:8080/",
          "height": 496
        },
        "outputId": "2960a375-8535-44e4-bfe0-2efd9224d26f"
      },
      "source": [
        "import pandas as pd\n",
        "import numpy as np\n",
        "data = pd.DataFrame(np.random.randn(5, 5), columns=['a', 'b', 'c', 'd', 'e'],index=[1, 2, 3, 5, 8])\n",
        "data = data.reindex([1, 2, 3, 4, 5, 6, 7, 8])\n",
        "print(data.fillna(0))\n",
        "print(data.fillna(method='pad'))\n",
        "print(data.fillna(method='backfill'))"
      ],
      "execution_count": null,
      "outputs": [
        {
          "output_type": "stream",
          "text": [
            "          a         b         c         d         e\n",
            "1  1.385693 -0.568044  0.148572  2.360039 -0.690026\n",
            "2 -1.482008 -1.367972 -0.004732 -0.580455  0.140384\n",
            "3  0.890414  0.960034  0.769465 -0.838447 -0.437285\n",
            "4  0.000000  0.000000  0.000000  0.000000  0.000000\n",
            "5  2.084269  0.422609 -0.851500  0.822100 -0.708450\n",
            "6  0.000000  0.000000  0.000000  0.000000  0.000000\n",
            "7  0.000000  0.000000  0.000000  0.000000  0.000000\n",
            "8 -1.055012 -1.717139 -0.938099  0.347061 -0.999760\n",
            "          a         b         c         d         e\n",
            "1  1.385693 -0.568044  0.148572  2.360039 -0.690026\n",
            "2 -1.482008 -1.367972 -0.004732 -0.580455  0.140384\n",
            "3  0.890414  0.960034  0.769465 -0.838447 -0.437285\n",
            "4  0.890414  0.960034  0.769465 -0.838447 -0.437285\n",
            "5  2.084269  0.422609 -0.851500  0.822100 -0.708450\n",
            "6  2.084269  0.422609 -0.851500  0.822100 -0.708450\n",
            "7  2.084269  0.422609 -0.851500  0.822100 -0.708450\n",
            "8 -1.055012 -1.717139 -0.938099  0.347061 -0.999760\n",
            "          a         b         c         d         e\n",
            "1  1.385693 -0.568044  0.148572  2.360039 -0.690026\n",
            "2 -1.482008 -1.367972 -0.004732 -0.580455  0.140384\n",
            "3  0.890414  0.960034  0.769465 -0.838447 -0.437285\n",
            "4  2.084269  0.422609 -0.851500  0.822100 -0.708450\n",
            "5  2.084269  0.422609 -0.851500  0.822100 -0.708450\n",
            "6 -1.055012 -1.717139 -0.938099  0.347061 -0.999760\n",
            "7 -1.055012 -1.717139 -0.938099  0.347061 -0.999760\n",
            "8 -1.055012 -1.717139 -0.938099  0.347061 -0.999760\n"
          ],
          "name": "stdout"
        }
      ]
    },
    {
      "cell_type": "code",
      "metadata": {
        "id": "_pA_NyrwOqKI",
        "colab": {
          "base_uri": "https://localhost:8080/",
          "height": 294
        },
        "outputId": "07062797-6b2b-4941-ecc8-2aa361e16a9f"
      },
      "source": [
        "import pandas as pd\n",
        "import numpy as np\n",
        "import matplotlib.pyplot as plt\n",
        "plt.bar([1,3,4,7,9],[5,2,7,8,2], label=\"Height A\", color='y')\n",
        "plt.bar([2,5,6,8,10],[8,6,2,5,6], label=\"Height B\", color='g')\n",
        "plt.xlabel('bar number')\n",
        "plt.ylabel('bar height')\n",
        "plt.title('Imaginary heights')\n",
        "plt.show()"
      ],
      "execution_count": null,
      "outputs": [
        {
          "output_type": "display_data",
          "data": {
            "image/png": "[encoded data removed]",
            "text/plain": [
              "<Figure size 432x288 with 1 Axes>"
            ]
          },
          "metadata": {
            "tags": [],
            "needs_background": "light"
          }
        }
      ]
    },
    {
      "cell_type": "code",
      "metadata": {
        "id": "ST7nT1AQTV2J",
        "colab": {
          "base_uri": "https://localhost:8080/",
          "height": 294
        },
        "outputId": "9aebf8cf-3898-415f-db12-8968da737b9d"
      },
      "source": [
        "import pandas as pd\n",
        "import numpy as np\n",
        "import matplotlib.pyplot as plt\n",
        "weights = [22,55,62,45,21,22,34,42,42,4,99,66,78,49,30,90]\n",
        "bins = [0,10,20,30,40,50,60,70,80,90,100]\n",
        "plt.hist(weights, bins, histtype='bar', rwidth=0.8)\n",
        "plt.xlabel('hist number')\n",
        "plt.ylabel('hist weights')\n",
        "plt.title('Imaginary weignts')\n",
        "plt.show()"
      ],
      "execution_count": null,
      "outputs": [
        {
          "output_type": "display_data",
          "data": {
            "image/png": "[encoded data removed]",
            "text/plain": [
              "<Figure size 432x288 with 1 Axes>"
            ]
          },
          "metadata": {
            "tags": [],
            "needs_background": "light"
          }
        }
      ]
    },
    {
      "cell_type": "code",
      "metadata": {
        "id": "oy0_2ZKYVviT",
        "colab": {
          "base_uri": "https://localhost:8080/",
          "height": 294
        },
        "outputId": "e7ac5ab9-f17b-4626-8fba-11e2d1ee6882"
      },
      "source": [
        "import pandas as pd\n",
        "import numpy as np\n",
        "import matplotlib.pyplot as plt\n",
        "weignts = [22,55,62,45,21,22,34,42,42,4,99]\n",
        "numbers = [0,10,20,30,40,50,60,70,80,90,100]\n",
        "plt.scatter(weights, numbers, color='g', s=50, marker=\"^\")\n",
        "plt.xlabel('plot number')\n",
        "plt.ylabel('plot weights')\n",
        "plt.title('Imaginary weignts')\n",
        "plt.show()"
      ],
      "execution_count": null,
      "outputs": [
        {
          "output_type": "display_data",
          "data": {
            "image/png": "[encoded data removed]",
            "text/plain": [
              "<Figure size 432x288 with 1 Axes>"
            ]
          },
          "metadata": {
            "tags": [],
            "needs_background": "light"
          }
        }
      ]
    }
  ]
}