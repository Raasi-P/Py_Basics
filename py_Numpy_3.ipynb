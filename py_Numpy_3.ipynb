{
  "nbformat": 4,
  "nbformat_minor": 0,
  "metadata": {
    "colab": {
      "provenance": []
    },
    "kernelspec": {
      "name": "python3",
      "display_name": "Python 3"
    }
  },
  "cells": [
    {
      "cell_type": "code",
      "metadata": {
        "id": "BVSH0I9_9_mD",
        "colab": {
          "base_uri": "https://localhost:8080/",
          "height": 85
        },
        "outputId": "625e7a1f-717a-475e-df6a-fa0ddcc38525"
      },
      "source": [
        "import numpy as np\n",
        "single = np.random.RandomState(55)\n",
        "x = single.randint(250, size=12)\n",
        "print(\"x: \", (x))\n",
        "y = [ 5, 8, 11]\n",
        "print(\"y; \", (x[y]))\n",
        "z = np.array([[2, 4],\n",
        "             [6, 8]])\n",
        "print(\"z: \", (x[z]))"
      ],
      "execution_count": null,
      "outputs": [
        {
          "output_type": "stream",
          "text": [
            "x:  [205 154  39 200 125  29 189 229  55  37  91 161]\n",
            "y;  [ 29  55 161]\n",
            "z:  [[ 39 125]\n",
            " [189  55]]\n"
          ],
          "name": "stdout"
        }
      ]
    },
    {
      "cell_type": "code",
      "metadata": {
        "id": "LaZx1SU3Gpx_",
        "colab": {
          "base_uri": "https://localhost:8080/",
          "height": 221
        },
        "outputId": "c0e0588f-3fe1-4431-d599-c91fd211268a"
      },
      "source": [
        "import numpy as np\n",
        "multi = np.arange(30).reshape((5, 6))\n",
        "print(\"x: \", multi)\n",
        "row = np.array([2, 3, 4])\n",
        "col = np.array([1, 2, 3])\n",
        "print(\"y: \", multi[row, col])\n",
        "print(\"z: \", multi[row[:, np.newaxis], col])\n",
        "print(\"a: \", row[:, np.newaxis] * col)"
      ],
      "execution_count": null,
      "outputs": [
        {
          "output_type": "stream",
          "text": [
            "x:  [[ 0  1  2  3  4  5]\n",
            " [ 6  7  8  9 10 11]\n",
            " [12 13 14 15 16 17]\n",
            " [18 19 20 21 22 23]\n",
            " [24 25 26 27 28 29]]\n",
            "y:  [13 20 27]\n",
            "z:  [[13 14 15]\n",
            " [19 20 21]\n",
            " [25 26 27]]\n",
            "a:  [[ 2  4  6]\n",
            " [ 3  6  9]\n",
            " [ 4  8 12]]\n"
          ],
          "name": "stdout"
        }
      ]
    },
    {
      "cell_type": "code",
      "metadata": {
        "id": "g0TN7IGtL4Oc",
        "colab": {
          "base_uri": "https://localhost:8080/",
          "height": 119
        },
        "outputId": "b7559403-9983-4a2c-84c9-81d5837931fd"
      },
      "source": [
        "import numpy as np\n",
        "multi = np.arange(30).reshape((5, 6))\n",
        "print(\"x: \", multi)\n",
        "print(\"y: \", multi[3, [5, 3, 1]])"
      ],
      "execution_count": null,
      "outputs": [
        {
          "output_type": "stream",
          "text": [
            "x:  [[ 0  1  2  3  4  5]\n",
            " [ 6  7  8  9 10 11]\n",
            " [12 13 14 15 16 17]\n",
            " [18 19 20 21 22 23]\n",
            " [24 25 26 27 28 29]]\n",
            "y:  [23 21 19]\n"
          ],
          "name": "stdout"
        }
      ]
    },
    {
      "cell_type": "code",
      "metadata": {
        "id": "WXez4TvWNC7m",
        "colab": {
          "base_uri": "https://localhost:8080/",
          "height": 153
        },
        "outputId": "3067f28f-7657-43dd-8404-57b406ac9b1d"
      },
      "source": [
        "import numpy as np\n",
        "multi = np.arange(30).reshape((5, 6))\n",
        "print(\"x: \", multi)\n",
        "print(\"y: \", multi[2:, [5, 3, 1]])"
      ],
      "execution_count": null,
      "outputs": [
        {
          "output_type": "stream",
          "text": [
            "x:  [[ 0  1  2  3  4  5]\n",
            " [ 6  7  8  9 10 11]\n",
            " [12 13 14 15 16 17]\n",
            " [18 19 20 21 22 23]\n",
            " [24 25 26 27 28 29]]\n",
            "y:  [[17 15 13]\n",
            " [23 21 19]\n",
            " [29 27 25]]\n"
          ],
          "name": "stdout"
        }
      ]
    },
    {
      "cell_type": "code",
      "metadata": {
        "id": "chhJzANCWp9B",
        "colab": {
          "base_uri": "https://localhost:8080/",
          "height": 68
        },
        "outputId": "fa3681ff-e571-45c0-d233-3c75ca0c08f8"
      },
      "source": [
        "import numpy as np\n",
        "x = np.array([7, 6, 3, 6, 8, 9, 2, 1, 4, 7, 5])\n",
        "z = np.argsort(x)\n",
        "print(\"argsort: \", z)\n",
        "y = np.sort(x)\n",
        "print(\"np.sort: \", y)\n",
        "x.sort()\n",
        "print(\"sort: \", x)\n"
      ],
      "execution_count": null,
      "outputs": [
        {
          "output_type": "stream",
          "text": [
            "argsort:  [ 7  6  2  8 10  1  3  0  9  4  5]\n",
            "np.sort:  [1 2 3 4 5 6 6 7 7 8 9]\n",
            "sort:  [1 2 3 4 5 6 6 7 7 8 9]\n"
          ],
          "name": "stdout"
        }
      ]
    },
    {
      "cell_type": "code",
      "metadata": {
        "id": "U_C6JCKrf__T",
        "colab": {
          "base_uri": "https://localhost:8080/",
          "height": 221
        },
        "outputId": "a6a81651-2416-47df-8ba1-ca6569930d95"
      },
      "source": [
        "import numpy as np\n",
        "rand = np.random.RandomState(25)\n",
        "x = rand.randint(0, 20, (4, 5))\n",
        "print(\"x: \", x)\n",
        "y = np.sort(x, axis=0)\n",
        "print(\"column: \", y)\n",
        "z = np.sort(x, axis=1)\n",
        "print(\"row: \", z)"
      ],
      "execution_count": null,
      "outputs": [
        {
          "output_type": "stream",
          "text": [
            "x:  [[ 4 15 12 18  8]\n",
            " [ 4  5  1  7  3]\n",
            " [ 3 13  3  1 16]\n",
            " [15  9 16 12 13]]\n",
            "column:  [[ 3  5  1  1  3]\n",
            " [ 4  9  3  7  8]\n",
            " [ 4 13 12 12 13]\n",
            " [15 15 16 18 16]]\n",
            "row:  [[ 4  8 12 15 18]\n",
            " [ 1  3  4  5  7]\n",
            " [ 1  3  3 13 16]\n",
            " [ 9 12 13 15 16]]\n"
          ],
          "name": "stdout"
        }
      ]
    },
    {
      "cell_type": "code",
      "metadata": {
        "id": "oSKAAMfQnBFX",
        "colab": {
          "base_uri": "https://localhost:8080/",
          "height": 51
        },
        "outputId": "ebdd9c75-1565-4ff4-a52e-d019e9f4b720"
      },
      "source": [
        "import numpy as np\n",
        "x = np.array([4, 5, 2, 8, 5, 7, 9, 2, 8, 6, 7])\n",
        "print(\"x: \", x)\n",
        "y = np.partition(x, 3)\n",
        "print(\"y: \", y)"
      ],
      "execution_count": null,
      "outputs": [
        {
          "output_type": "stream",
          "text": [
            "x:  [4 5 2 8 5 7 9 2 8 6 7]\n",
            "y:  [2 2 4 5 5 6 7 9 8 8 7]\n"
          ],
          "name": "stdout"
        }
      ]
    },
    {
      "cell_type": "code",
      "metadata": {
        "id": "satbYWgAqHZB",
        "colab": {
          "base_uri": "https://localhost:8080/",
          "height": 187
        },
        "outputId": "20a050d8-010a-47d9-cc9f-c313299da6a8"
      },
      "source": [
        "import numpy as np\n",
        "rand = np.random.RandomState(25)\n",
        "x = rand.randint(0, 20, (5, 7))\n",
        "print(\"x: \", x)\n",
        "z = np.partition(x, 2, axis=1)\n",
        "print(\"z: \", z)"
      ],
      "execution_count": null,
      "outputs": [
        {
          "output_type": "stream",
          "text": [
            "x:  [[ 4 15 12 18  8  4  5]\n",
            " [ 1  7  3  3 13  3  1]\n",
            " [16 15  9 16 12 13 18]\n",
            " [ 4  9  0 10 15 10  1]\n",
            " [17 18  4  2  5  8 11]]\n",
            "z:  [[ 4  4  5 18  8 15 12]\n",
            " [ 1  1  3  3 13  3  7]\n",
            " [ 9 12 13 16 15 16 18]\n",
            " [ 0  1  4 10 15 10  9]\n",
            " [ 2  4  5 17 18  8 11]]\n"
          ],
          "name": "stdout"
        }
      ]
    }
  ]
}