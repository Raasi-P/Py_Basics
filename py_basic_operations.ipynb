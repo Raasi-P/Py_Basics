{
  "nbformat": 4,
  "nbformat_minor": 0,
  "metadata": {
    "colab": {
      "provenance": []
    },
    "kernelspec": {
      "name": "python3",
      "display_name": "Python 3"
    }
  },
  "cells": [
    {
      "cell_type": "code",
      "metadata": {
        "id": "7hMBrQvtHiWb",
        "colab": {
          "base_uri": "https://localhost:8080/",
          "height": 33
        },
        "outputId": "065caeb1-fe34-4dd1-a814-bfe445697d0a"
      },
      "source": [
        "myDict = {}\n",
        "myDict[\"key1\"] = [1, 2]\n",
        "myDict[\"key2\"] = [\"Geeks\", \"For\", \"Geeks\"]\n",
        "print(myDict)"
      ],
      "execution_count": null,
      "outputs": [
        {
          "output_type": "stream",
          "text": [
            "{'key1': [1, 2], 'key2': ['Geeks', 'For', 'Geeks']}\n"
          ],
          "name": "stdout"
        }
      ]
    },
    {
      "cell_type": "code",
      "metadata": {
        "id": "0ygjUPCXKBs9",
        "colab": {
          "base_uri": "https://localhost:8080/",
          "height": 131
        },
        "outputId": "fbfa3330-af0a-4091-a4b4-d6a8feb0b0f8"
      },
      "source": [
        "my_dict = {'name': 'Jack', 'age': 26}\n",
        "print(my_dict['name'])\n",
        "print(my_dict.get('age'))\n",
        "marks = {}.fromkeys(['Math', 'English', 'Science'], 0)\n",
        "print(marks)\n",
        "for item in marks.items():\n",
        "    print(item)\n",
        "print(list(sorted(marks.keys())))"
      ],
      "execution_count": null,
      "outputs": [
        {
          "output_type": "stream",
          "text": [
            "Jack\n",
            "26\n",
            "{'Math': 0, 'English': 0, 'Science': 0}\n",
            "('Math', 0)\n",
            "('English', 0)\n",
            "('Science', 0)\n",
            "['English', 'Math', 'Science']\n"
          ],
          "name": "stdout"
        }
      ]
    },
    {
      "cell_type": "code",
      "metadata": {
        "id": "bw0_c5UISqtU",
        "colab": {
          "base_uri": "https://localhost:8080/",
          "height": 50
        },
        "outputId": "f4211321-2c2b-46ba-88ca-dcca5fc3e9b3"
      },
      "source": [
        "my_dict = {'name': 'Akhil', 'age': 25}\n",
        "my_dict['age'] = 27\n",
        "print(my_dict)\n",
        "my_dict['address'] = 'Hyderabad'\n",
        "print(my_dict)"
      ],
      "execution_count": null,
      "outputs": [
        {
          "output_type": "stream",
          "text": [
            "{'name': 'Akhil', 'age': 27}\n",
            "{'name': 'Akhil', 'age': 27, 'address': 'Hyderabad'}\n"
          ],
          "name": "stdout"
        }
      ]
    },
    {
      "cell_type": "code",
      "metadata": {
        "id": "SzT3pw23T8xR",
        "colab": {
          "base_uri": "https://localhost:8080/",
          "height": 66
        },
        "outputId": "aa455c34-e66c-4a2c-eded-dfa03d71b46e"
      },
      "source": [
        "my_dict = {1, 3, 5, 7, 9}\n",
        "print(my_dict.pop())\n",
        "print(my_dict)\n",
        "my_dict.clear()\n",
        "print(my_dict)\n"
      ],
      "execution_count": null,
      "outputs": [
        {
          "output_type": "stream",
          "text": [
            "1\n",
            "{3, 5, 7, 9}\n",
            "set()\n"
          ],
          "name": "stdout"
        }
      ]
    },
    {
      "cell_type": "code",
      "metadata": {
        "id": "Y0H0gwUvXI_F",
        "colab": {
          "base_uri": "https://localhost:8080/",
          "height": 50
        },
        "outputId": "e7824559-12b0-4299-bac4-867a920ce9aa"
      },
      "source": [
        "squares = {1: 1, 2: 4, 3: 9, 4: 16, 5: 25}\n",
        "print(squares.pop(4))\n",
        "print(squares)"
      ],
      "execution_count": null,
      "outputs": [
        {
          "output_type": "stream",
          "text": [
            "16\n",
            "{1: 1, 2: 4, 3: 9, 5: 25}\n"
          ],
          "name": "stdout"
        }
      ]
    },
    {
      "cell_type": "code",
      "metadata": {
        "id": "hImBMFRdY3at",
        "colab": {
          "base_uri": "https://localhost:8080/",
          "height": 98
        },
        "outputId": "d328a05a-3bf0-4e09-feed-ae84cb603fd0"
      },
      "source": [
        "my_dict = {1: 1, 2: 4, 3: 9, 4: 16, 5: 25}\n",
        "for i in my_dict:\n",
        "    print(my_dict[i])"
      ],
      "execution_count": null,
      "outputs": [
        {
          "output_type": "stream",
          "text": [
            "1\n",
            "4\n",
            "9\n",
            "16\n",
            "25\n"
          ],
          "name": "stdout"
        }
      ]
    },
    {
      "cell_type": "code",
      "metadata": {
        "id": "YoxQdo9RaBiK",
        "colab": {
          "base_uri": "https://localhost:8080/",
          "height": 82
        },
        "outputId": "f3b0b9c6-78a6-4cac-8e67-0c2abbfa7470"
      },
      "source": [
        "my_dict = {'a': 1, 'b': 2, 'y': 4}\n",
        "my_dict.update(c = 3, z = 5)\n",
        "print(my_dict)\n",
        "print(len(my_dict))\n",
        "print(sorted(my_dict))\n",
        "my_dict.clear()\n",
        "print(my_dict)"
      ],
      "execution_count": null,
      "outputs": [
        {
          "output_type": "stream",
          "text": [
            "{'a': 1, 'b': 2, 'y': 4, 'c': 3, 'z': 5}\n",
            "5\n",
            "['a', 'b', 'c', 'y', 'z']\n",
            "{}\n"
          ],
          "name": "stdout"
        }
      ]
    },
    {
      "cell_type": "code",
      "metadata": {
        "id": "6YTtRlnihzkk",
        "colab": {
          "base_uri": "https://localhost:8080/",
          "height": 33
        },
        "outputId": "b8b01f7f-418b-4a69-d7f6-193f9d356ff1"
      },
      "source": [
        "my_set = {1.0, \"Hello\", (1, 2, 3)}\n",
        "print(my_set)"
      ],
      "execution_count": null,
      "outputs": [
        {
          "output_type": "stream",
          "text": [
            "{'Hello', 1.0, (1, 2, 3)}\n"
          ],
          "name": "stdout"
        }
      ]
    },
    {
      "cell_type": "code",
      "metadata": {
        "id": "sVrn0TI3kSVH",
        "colab": {
          "base_uri": "https://localhost:8080/",
          "height": 98
        },
        "outputId": "dee9f385-aaeb-4f6e-dcb4-93eab5f0452a"
      },
      "source": [
        "my_set = {1, 3, 4, 5, 6, 7, 8, 9, 10}\n",
        "my_set.add(2)\n",
        "print(my_set)\n",
        "my_set.discard(4)\n",
        "print(my_set)\n",
        "my_set.remove(6)\n",
        "print(my_set)\n",
        "my_set.pop()\n",
        "print(my_set)\n",
        "my_set.clear()\n",
        "print(my_set)"
      ],
      "execution_count": null,
      "outputs": [
        {
          "output_type": "stream",
          "text": [
            "{1, 2, 3, 4, 5, 6, 7, 8, 9, 10}\n",
            "{1, 2, 3, 5, 6, 7, 8, 9, 10}\n",
            "{1, 2, 3, 5, 7, 8, 9, 10}\n",
            "{2, 3, 5, 7, 8, 9, 10}\n",
            "set()\n"
          ],
          "name": "stdout"
        }
      ]
    },
    {
      "cell_type": "code",
      "metadata": {
        "id": "7TlAGvmpmp00",
        "colab": {
          "base_uri": "https://localhost:8080/",
          "height": 33
        },
        "outputId": "5facfbad-06ef-4537-cad3-9092d559195b"
      },
      "source": [
        "A = {1, 2, 3, 4, 5, 6}\n",
        "B = {3, 4, 5, 6, 7, 8}\n",
        "print(A | B)"
      ],
      "execution_count": null,
      "outputs": [
        {
          "output_type": "stream",
          "text": [
            "{1, 2, 3, 4, 5, 6, 7, 8}\n"
          ],
          "name": "stdout"
        }
      ]
    },
    {
      "cell_type": "code",
      "metadata": {
        "id": "uNk6ucD4nXbA",
        "colab": {
          "base_uri": "https://localhost:8080/",
          "height": 33
        },
        "outputId": "410132cc-4294-4989-ef39-081c3f9949b3"
      },
      "source": [
        "A = {1, 2, 3, 4, 5, 6}\n",
        "B = {3, 4, 5, 6, 7, 8}\n",
        "print(A & B)"
      ],
      "execution_count": null,
      "outputs": [
        {
          "output_type": "stream",
          "text": [
            "{3, 4, 5, 6}\n"
          ],
          "name": "stdout"
        }
      ]
    },
    {
      "cell_type": "code",
      "metadata": {
        "id": "-9mY2180nzL6",
        "colab": {
          "base_uri": "https://localhost:8080/",
          "height": 33
        },
        "outputId": "b93bd6dd-3e1b-4bbb-de7c-aeac5945571c"
      },
      "source": [
        "A = {1, 2, 3, 4, 5, 6}\n",
        "B = {3, 4, 5, 6, 7, 8}\n",
        "print(A - B)"
      ],
      "execution_count": null,
      "outputs": [
        {
          "output_type": "stream",
          "text": [
            "{1, 2}\n"
          ],
          "name": "stdout"
        }
      ]
    },
    {
      "cell_type": "code",
      "metadata": {
        "id": "MsNS0I0QoVZn",
        "colab": {
          "base_uri": "https://localhost:8080/",
          "height": 33
        },
        "outputId": "e1566ab4-007f-4e71-d152-a77a71f221aa"
      },
      "source": [
        "A = {1, 2, 3, 4, 5, 6}\n",
        "B = {3, 4, 5, 6, 7, 8}\n",
        "print(A ^ B)"
      ],
      "execution_count": null,
      "outputs": [
        {
          "output_type": "stream",
          "text": [
            "{1, 2, 7, 8}\n"
          ],
          "name": "stdout"
        }
      ]
    }
  ]
}