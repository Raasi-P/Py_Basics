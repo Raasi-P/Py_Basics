{
  "nbformat": 4,
  "nbformat_minor": 0,
  "metadata": {
    "colab": {
      "provenance": []
    },
    "kernelspec": {
      "name": "python3",
      "display_name": "Python 3"
    }
  },
  "cells": [
    {
      "cell_type": "code",
      "metadata": {
        "id": "WxQ37QuEjOKj",
        "colab": {
          "base_uri": "https://localhost:8080/",
          "height": 68
        },
        "outputId": "0cad0abe-7c8d-4a53-f0f0-1ee1cd28e896"
      },
      "source": [
        "import numpy as np\n",
        "nums = np.array([[1,4,7], [2,5,8], [3,6,9]])\n",
        "nums"
      ],
      "execution_count": null,
      "outputs": [
        {
          "output_type": "execute_result",
          "data": {
            "text/plain": [
              "array([[1, 4, 7],\n",
              "       [2, 5, 8],\n",
              "       [3, 6, 9]])"
            ]
          },
          "metadata": {
            "tags": []
          },
          "execution_count": 9
        }
      ]
    },
    {
      "cell_type": "code",
      "metadata": {
        "id": "H2ZlibXuktxM",
        "colab": {
          "base_uri": "https://localhost:8080/",
          "height": 34
        },
        "outputId": "f19db212-35c1-4d3c-a19e-ea0159799aaa"
      },
      "source": [
        "nums = np.arange(3, 30, 3)\n",
        "nums"
      ],
      "execution_count": null,
      "outputs": [
        {
          "output_type": "execute_result",
          "data": {
            "text/plain": [
              "array([ 3,  6,  9, 12, 15, 18, 21, 24, 27])"
            ]
          },
          "metadata": {
            "tags": []
          },
          "execution_count": 22
        }
      ]
    },
    {
      "cell_type": "code",
      "metadata": {
        "id": "XoemxDQglJRS",
        "colab": {
          "base_uri": "https://localhost:8080/",
          "height": 68
        },
        "outputId": "60db89cf-1e49-4881-ed37-173209d47622"
      },
      "source": [
        "zeros = np.zeros((3, 5))\n",
        "zeros"
      ],
      "execution_count": null,
      "outputs": [
        {
          "output_type": "execute_result",
          "data": {
            "text/plain": [
              "array([[0., 0., 0., 0., 0.],\n",
              "       [0., 0., 0., 0., 0.],\n",
              "       [0., 0., 0., 0., 0.]])"
            ]
          },
          "metadata": {
            "tags": []
          },
          "execution_count": 11
        }
      ]
    },
    {
      "cell_type": "code",
      "metadata": {
        "id": "D3VYkIfulZVU",
        "colab": {
          "base_uri": "https://localhost:8080/",
          "height": 68
        },
        "outputId": "0f842753-5d24-4a2d-eefe-492989b2007e"
      },
      "source": [
        "ones = np.ones((3, 5))\n",
        "ones"
      ],
      "execution_count": null,
      "outputs": [
        {
          "output_type": "execute_result",
          "data": {
            "text/plain": [
              "array([[1., 1., 1., 1., 1.],\n",
              "       [1., 1., 1., 1., 1.],\n",
              "       [1., 1., 1., 1., 1.]])"
            ]
          },
          "metadata": {
            "tags": []
          },
          "execution_count": 12
        }
      ]
    },
    {
      "cell_type": "code",
      "metadata": {
        "id": "nNCpixnHmeAG",
        "colab": {
          "base_uri": "https://localhost:8080/",
          "height": 68
        },
        "outputId": "cf6149d1-e544-42c8-da31-3b97c5da7962"
      },
      "source": [
        "lin = np.linspace(1, 8, 12)\n",
        "lin"
      ],
      "execution_count": null,
      "outputs": [
        {
          "output_type": "execute_result",
          "data": {
            "text/plain": [
              "array([1.        , 1.63636364, 2.27272727, 2.90909091, 3.54545455,\n",
              "       4.18181818, 4.81818182, 5.45454545, 6.09090909, 6.72727273,\n",
              "       7.36363636, 8.        ])"
            ]
          },
          "metadata": {
            "tags": []
          },
          "execution_count": 15
        }
      ]
    },
    {
      "cell_type": "code",
      "metadata": {
        "id": "dGivPux9mrtg",
        "colab": {
          "base_uri": "https://localhost:8080/",
          "height": 102
        },
        "outputId": "1373ebe4-8377-4f55-eed1-13c5a7fbb293"
      },
      "source": [
        "eye = np.eye(5)\n",
        "eye"
      ],
      "execution_count": null,
      "outputs": [
        {
          "output_type": "execute_result",
          "data": {
            "text/plain": [
              "array([[1., 0., 0., 0., 0.],\n",
              "       [0., 1., 0., 0., 0.],\n",
              "       [0., 0., 1., 0., 0.],\n",
              "       [0., 0., 0., 1., 0.],\n",
              "       [0., 0., 0., 0., 1.]])"
            ]
          },
          "metadata": {
            "tags": []
          },
          "execution_count": 23
        }
      ]
    },
    {
      "cell_type": "code",
      "metadata": {
        "id": "Kkt92SLWniax",
        "colab": {
          "base_uri": "https://localhost:8080/",
          "height": 34
        },
        "outputId": "fd0e06a7-df38-4b0e-bf39-b09930a10f17"
      },
      "source": [
        "random = np.random.randint(120, 250, 10)\n",
        "random"
      ],
      "execution_count": null,
      "outputs": [
        {
          "output_type": "execute_result",
          "data": {
            "text/plain": [
              "array([162, 128, 249, 137, 231, 135, 242, 224, 195, 124])"
            ]
          },
          "metadata": {
            "tags": []
          },
          "execution_count": 18
        }
      ]
    },
    {
      "cell_type": "code",
      "metadata": {
        "id": "hrai-6Lmonfn",
        "colab": {
          "base_uri": "https://localhost:8080/",
          "height": 68
        },
        "outputId": "372ba311-28c3-4115-a2b9-ef0058ed796a"
      },
      "source": [
        "full = np.full((3,5),5)\n",
        "full"
      ],
      "execution_count": null,
      "outputs": [
        {
          "output_type": "execute_result",
          "data": {
            "text/plain": [
              "array([[5, 5, 5, 5, 5],\n",
              "       [5, 5, 5, 5, 5],\n",
              "       [5, 5, 5, 5, 5]])"
            ]
          },
          "metadata": {
            "tags": []
          },
          "execution_count": 21
        }
      ]
    },
    {
      "cell_type": "code",
      "metadata": {
        "id": "NHqPVLX_sKVc",
        "colab": {
          "base_uri": "https://localhost:8080/",
          "height": 102
        },
        "outputId": "ef59ea33-86d1-46dc-d1e3-5f01cc40041f"
      },
      "source": [
        "nums = np.arange(1, 25)\n",
        "print(nums)\n",
        "reshape = nums.reshape(4, 6)\n",
        "print(reshape)"
      ],
      "execution_count": null,
      "outputs": [
        {
          "output_type": "stream",
          "text": [
            "[ 1  2  3  4  5  6  7  8  9 10 11 12 13 14 15 16 17 18 19 20 21 22 23 24]\n",
            "[[ 1  2  3  4  5  6]\n",
            " [ 7  8  9 10 11 12]\n",
            " [13 14 15 16 17 18]\n",
            " [19 20 21 22 23 24]]\n"
          ],
          "name": "stdout"
        }
      ]
    },
    {
      "cell_type": "code",
      "metadata": {
        "id": "IwNyXsMluBq9",
        "colab": {
          "base_uri": "https://localhost:8080/",
          "height": 187
        },
        "outputId": "527d245c-3d9e-4ce4-8bee-933844d12d42"
      },
      "source": [
        "indexing = np.array(([1,2,3,4],[5,6,7,8],[9,10,11,12],[13,14,15,16]))\n",
        "print(indexing)\n",
        "print(indexing[0,3])\n",
        "print(indexing[3,2])\n",
        "print(indexing[:,0])\n",
        "print(indexing[:3,:3])"
      ],
      "execution_count": null,
      "outputs": [
        {
          "output_type": "stream",
          "text": [
            "[[ 1  2  3  4]\n",
            " [ 5  6  7  8]\n",
            " [ 9 10 11 12]\n",
            " [13 14 15 16]]\n",
            "4\n",
            "15\n",
            "[ 1  5  9 13]\n",
            "[[ 1  2  3]\n",
            " [ 5  6  7]\n",
            " [ 9 10 11]]\n"
          ],
          "name": "stdout"
        }
      ]
    },
    {
      "cell_type": "code",
      "metadata": {
        "id": "cJZ4kS9nyZl9",
        "colab": {
          "base_uri": "https://localhost:8080/",
          "height": 119
        },
        "outputId": "1e2ef1e2-b2cd-4823-e489-6d0bd9e7c1ec"
      },
      "source": [
        "slicing = np.arange(20)\n",
        "print(slicing)\n",
        "print(slicing[1:19:3])\n",
        "print(slicing[:8])\n",
        "print(slicing[1:9])\n",
        "print(slicing[::2])\n",
        "print(slicing[4:])"
      ],
      "execution_count": null,
      "outputs": [
        {
          "output_type": "stream",
          "text": [
            "[ 0  1  2  3  4  5  6  7  8  9 10 11 12 13 14 15 16 17 18 19]\n",
            "[ 1  4  7 10 13 16]\n",
            "[0 1 2 3 4 5 6 7]\n",
            "[1 2 3 4 5 6 7 8]\n",
            "[ 0  2  4  6  8 10 12 14 16 18]\n",
            "[ 4  5  6  7  8  9 10 11 12 13 14 15 16 17 18 19]\n"
          ],
          "name": "stdout"
        }
      ]
    },
    {
      "cell_type": "code",
      "metadata": {
        "id": "urDY1Rgk2qTb",
        "colab": {
          "base_uri": "https://localhost:8080/",
          "height": 187
        },
        "outputId": "9be5046d-471f-48e5-f8c8-3fef0e09e98d"
      },
      "source": [
        "import numpy as np\n",
        "nums = np.arange(20).reshape(4, 5)\n",
        "print(nums)\n",
        "print(nums.ndim)\n",
        "print(nums.shape)\n",
        "print(nums.size)\n",
        "print(nums.dtype.name)\n",
        "print(nums.itemsize)\n",
        "print(nums.data)"
      ],
      "execution_count": null,
      "outputs": [
        {
          "output_type": "stream",
          "text": [
            "[[ 0  1  2  3  4]\n",
            " [ 5  6  7  8  9]\n",
            " [10 11 12 13 14]\n",
            " [15 16 17 18 19]]\n",
            "2\n",
            "(4, 5)\n",
            "20\n",
            "int64\n",
            "8\n",
            "<memory at 0x7f91edc791f8>\n"
          ],
          "name": "stdout"
        }
      ]
    },
    {
      "cell_type": "code",
      "metadata": {
        "id": "-l1frfvszx42",
        "colab": {
          "base_uri": "https://localhost:8080/",
          "height": 102
        },
        "outputId": "32004e24-f89a-45e0-9d31-defc0f4505b7"
      },
      "source": [
        "import numpy as np\n",
        "nums1 = np.array([30,39,81,145,167])\n",
        "nums2 = np.array([3,6,9,12,15])\n",
        "print(np.add(nums1,nums2))\n",
        "print(np.subtract(nums1,nums2))\n",
        "print(np.multiply(nums1,nums2))\n",
        "print(np.divide(nums1,nums2))\n",
        "print(np.floor_divide(nums1,nums2))"
      ],
      "execution_count": null,
      "outputs": [
        {
          "output_type": "stream",
          "text": [
            "[ 33  45  90 157 182]\n",
            "[ 27  33  72 133 152]\n",
            "[  90  234  729 1740 2505]\n",
            "[10.          6.5         9.         12.08333333 11.13333333]\n",
            "[10  6  9 12 11]\n"
          ],
          "name": "stdout"
        }
      ]
    },
    {
      "cell_type": "code",
      "metadata": {
        "id": "e-yeWJWb-u94",
        "colab": {
          "base_uri": "https://localhost:8080/",
          "height": 34
        },
        "outputId": "91f616ab-6516-4168-b94e-f204658378bb"
      },
      "source": [
        "import numpy as np\n",
        "nums1 = np.array([12,13,14,15,16])\n",
        "nums2 = np.array([3,6,9,12,15])\n",
        "nums3 = nums1 - nums2\n",
        "print(nums3)"
      ],
      "execution_count": null,
      "outputs": [
        {
          "output_type": "stream",
          "text": [
            "[9 7 5 3 1]\n"
          ],
          "name": "stdout"
        }
      ]
    }
  ]
}